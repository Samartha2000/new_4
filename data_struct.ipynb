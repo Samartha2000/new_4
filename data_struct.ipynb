{
 "cells": [
  {
   "cell_type": "markdown",
   "metadata": {},
   "source": [
    "Practical 1\n"
   ]
  },
  {
   "cell_type": "code",
   "execution_count": 66,
   "metadata": {},
   "outputs": [
    {
     "name": "stdout",
     "output_type": "stream",
     "text": [
      "Set A:{1, 2, 3, 4, 5, 6, 7, 8, 9}\n",
      "Set B:{2, 3, 5, 7}\n",
      "Set C:{1, 3, 5, 7, 9}\n",
      "Intersections:\n",
      "A ∩ B:{2, 3, 5, 7}\n",
      "A ∩ C:{1, 3, 5, 7, 9}\n",
      "B ∩ C:{3, 5, 7}\n",
      "A ∩ B ∩ C={3, 5, 7}\n",
      "Unions:\n",
      "A ∪ B:{1, 2, 3, 4, 5, 6, 7, 8, 9}\n",
      "A ∪ C:{1, 2, 3, 4, 5, 6, 7, 8, 9}\n",
      "B ∪ C:{1, 2, 3, 5, 7, 9}\n",
      "A ∪ B ∪ C={1, 2, 3, 4, 5, 6, 7, 8, 9}\n",
      "Subsets\n",
      "A ⊆ B:False\n",
      "C ⊆ A:True\n",
      "B ⊆ C:False\n",
      "B ⊆ A:True\n"
     ]
    }
   ],
   "source": [
    "# intializing Sets\n",
    "A = set()\n",
    "A = {1, 2, 3, 4, 5, 6, 7, 8, 9}\n",
    "B = {2, 3, 5, 7}\n",
    "odd_list = [1, 3, 5, 7, 9]\n",
    "C = set(odd_list)\n",
    "#print statements\n",
    "print(f\"Set A:{A}\\nSet B:{B}\\nSet C:{C}\")\n",
    "print(\"Intersections:\")\n",
    "print(f\"A ∩ B:{A.intersection(B)}\")\n",
    "print(f\"A ∩ C:{A.intersection(C)}\")\n",
    "print(f\"B ∩ C:{B.intersection(C)}\")\n",
    "print(f\"A ∩ B ∩ C={A.intersection(B,C)}\")\n",
    "print(\"Unions:\")\n",
    "print(f\"A ∪ B:{A.union(B)}\")\n",
    "print(f\"A ∪ C:{A.union(C)}\")\n",
    "print(f\"B ∪ C:{B.union(C)}\")\n",
    "print(f\"A ∪ B ∪ C={A.union(B,C)}\")\n",
    "print(\"Subsets\")\n",
    "print(f\"A ⊆ B:{A.issubset(B)}\")\n",
    "print(f\"C ⊆ A:{C.issubset(A)}\")\n",
    "print(f\"B ⊆ C:{B.issubset(C)}\")\n",
    "print(f\"B ⊆ A:{B.issubset(A)}\")"
   ]
  },
  {
   "cell_type": "code",
   "execution_count": 67,
   "metadata": {},
   "outputs": [
    {
     "name": "stdout",
     "output_type": "stream",
     "text": [
      "The Dictonary:{'Maharastra': 'Mumbai'}\n",
      "After Adding a key:{'Maharastra': 'Mumbai', 'Gujarat': 'Gandhinagar'}\n",
      "After Removing a key:{'Gujarat': 'Gandhinagar'}\n"
     ]
    }
   ],
   "source": [
    "state_city={\"Maharastra\":\"Mumbai\"}\n",
    "print(f\"The Dictonary:{state_city}\")\n",
    "state_city[\"Gujarat\"]=\"Gandhinagar\"\n",
    "print(f\"After Adding a key:{state_city}\")\n",
    "state_city.pop(\"Maharastra\")\n",
    "print(f\"After Removing a key:{state_city}\")"
   ]
  },
  {
   "cell_type": "markdown",
   "metadata": {},
   "source": [
    "Pract 2"
   ]
  },
  {
   "cell_type": "code",
   "execution_count": 2,
   "metadata": {},
   "outputs": [
    {
     "name": "stdout",
     "output_type": "stream",
     "text": [
      "[1, 2, 3, 4, 5]\n",
      "5 Exist in List\n"
     ]
    }
   ],
   "source": [
    "def linear_search(List1,n):   #i=0:1times  #i=i+1:ntimes #i<n :n+1 times\n",
    "    for i in range(len(List1)):\n",
    "        if List1[i]==n:         #1 times\n",
    "            return True        \n",
    "    return False             #1\n",
    "\n",
    "#input loop\n",
    "list1=[]\n",
    "while True:\n",
    "    a=int(input(\" Enter Element in list/ do you want to quit press(0) \"))\n",
    "    if a==0:\n",
    "       break\n",
    "    list1.append(a)\n",
    "\n",
    "#Evaluation\n",
    "print(list1)\n",
    "num=int(input(\"Enter the number you find in the list\"))\n",
    "if linear_search(list1,num):\n",
    "    print(f\"{num} Exist in List\")\n",
    "else:\n",
    "   print(f\"{num} Do Not Exist in List\") \n",
    "\n",
    "\n",
    "\n",
    "#complexity=O(n)   \n",
    "#=3n+3"
   ]
  },
  {
   "cell_type": "markdown",
   "metadata": {},
   "source": [
    "Pract 4"
   ]
  },
  {
   "cell_type": "code",
   "execution_count": 7,
   "metadata": {},
   "outputs": [
    {
     "name": "stdout",
     "output_type": "stream",
     "text": [
      "Selection Sort\n",
      "list entered by user is:[23, 13, 45, 69, 9, 2, 38]\n",
      "Sorted list is:[2, 9, 13, 23, 38, 45, 69]\n"
     ]
    }
   ],
   "source": [
    "def selection_sort(List1):\n",
    "   for i in range(len(list1)-1):\n",
    "      min_indx=i\n",
    "      for j in range(i+1,len(list1)):\n",
    "         if list1[min_indx]>list1[j]:\n",
    "            min_indx=j\n",
    "      temp=list1[min_indx]\n",
    "      list1[min_indx]=list1[i]\n",
    "      list1[i]=temp\n",
    "   return list1      \n",
    "\n",
    "list1=[]\n",
    "while True:\n",
    "    a=int(input(\" Enter Element in list/ do you want to quit press(0) \"))\n",
    "    if a==0:\n",
    "       break\n",
    "    list1.append(a) \n",
    "print(\"Selection Sort\")     \n",
    "print(f\"list entered by user is:{list1}\")\n",
    "print(f\"Sorted list is:{selection_sort(list1)}\")"
   ]
  },
  {
   "cell_type": "code",
   "execution_count": 9,
   "metadata": {},
   "outputs": [
    {
     "name": "stdout",
     "output_type": "stream",
     "text": [
      " Bubble Sort\n",
      "list entered by user is:[34, 54, 1, 23, 4, 5, 89, 69]\n",
      "Sorted list is:[1, 4, 5, 23, 34, 54, 69, 89]\n"
     ]
    }
   ],
   "source": [
    "def bubble_sort(list1):\n",
    "        for i in range(len(list1)):\n",
    "          for j in range(len(list1)-i-1):\n",
    "              if list1[j]>list1[j+1]:\n",
    "                temp=list1[j]\n",
    "                list1[j]=list1[j+1]\n",
    "                list1[j+1]=temp\n",
    "        return list1           \n",
    "\n",
    "list1=[]\n",
    "while True:\n",
    "    a=int(input(\" Enter Element in list/ do you want to quit press(0) \"))\n",
    "    if a==0:\n",
    "       break\n",
    "    list1.append(a) \n",
    "print(\" Bubble Sort\")     \n",
    "print(f\"list entered by user is:{list1}\")\n",
    "print(f\"Sorted list is:{bubble_sort(list1)}\")"
   ]
  },
  {
   "cell_type": "markdown",
   "metadata": {},
   "source": [
    "Pract 4"
   ]
  },
  {
   "cell_type": "code",
   "execution_count": 19,
   "metadata": {},
   "outputs": [
    {
     "name": "stdout",
     "output_type": "stream",
     "text": [
      " insertion Sort\n",
      "list entered by user is:[6, 4, 3, 9, 7]\n",
      "[3, 4, 6, 7, 9]\n"
     ]
    }
   ],
   "source": [
    "\n",
    "def insertion_sort(list1):\n",
    "    for i in range(1,len(list1)):\n",
    "        curr=list1[i]\n",
    "        previous_element=i-1\n",
    "        while previous_element>=0 and curr<list1[previous_element]:\n",
    "            list1[previous_element+1]=list1[previous_element]\n",
    "            previous_element=previous_element-1\n",
    "        list1[previous_element+1]=curr\n",
    "      \n",
    "\n",
    "list1=[]\n",
    "while True:\n",
    "    a=int(input(\" Enter Element in list/ do you want to quit press(0) \"))\n",
    "    if a==0:\n",
    "       break\n",
    "    list1.append(a) \n",
    "print(\" insertion Sort\")     \n",
    "print(f\"list entered by user is:{list1}\")\n",
    "insertion_sort(list1)\n",
    "print(\"Insertion sort:\",list1)"
   ]
  },
  {
   "cell_type": "code",
   "execution_count": 4,
   "metadata": {},
   "outputs": [
    {
     "name": "stdout",
     "output_type": "stream",
     "text": [
      "[1, 2, 3, 4, 5, 6, 7]\n",
      "6 Exist in List\n"
     ]
    }
   ],
   "source": [
    "def binary_search(list1,n):\n",
    "    lb=0\n",
    "    ub=len(list1)-1\n",
    "    while lb<=ub:\n",
    "        mid=(ub+lb)//2\n",
    "        if n==list1[mid]:\n",
    "            return True\n",
    "        elif n>list1[mid]:\n",
    "            lb=mid+1\n",
    "        elif n<list1[mid]:\n",
    "            ub=mid-1\n",
    "    return False             \n",
    " #input loop\n",
    "list1=[]\n",
    "while True:\n",
    "    a=int(input(\" Enter Element in list/ do you want to quit press(0) \"))\n",
    "    if a==0:\n",
    "       break\n",
    "    list1.append(a)\n",
    "\n",
    "#Evaluation\n",
    "print(list1)\n",
    "num=int(input(\"Enter the number you find in the list\"))\n",
    "if binary_search(list1,num):\n",
    "    print(f\"{num} Exist in List\")\n",
    "else:\n",
    "   print(f\"{num} Do Not Exist in List\")    "
   ]
  },
  {
   "cell_type": "code",
   "execution_count": 5,
   "metadata": {},
   "outputs": [
    {
     "name": "stdout",
     "output_type": "stream",
     "text": [
      " Merge Sort\n",
      "list entered by user is:[2, 10, 100, 56, 43, 78, 5, 6, 78, 3]\n",
      "Merge sort: [2, 3, 5, 6, 10, 43, 56, 78, 78, 100]\n"
     ]
    }
   ],
   "source": [
    "#merge sort\n",
    "def merge_sort(list1):\n",
    "    if len(list1)>1:\n",
    "        mid=len(list1)//2\n",
    "        left_half=list1[0:mid]\n",
    "        right_half=list1[mid:]\n",
    "\n",
    "        merge_sort(left_half)\n",
    "        merge_sort(right_half)\n",
    "\n",
    "        i=0\n",
    "        j=0\n",
    "        k=0\n",
    "        #evaluating\n",
    "        while i<len(left_half) and j<len(right_half):\n",
    "            if left_half[i]<right_half[j]:\n",
    "                list1[k]=left_half[i]\n",
    "                i+=1\n",
    "            else:\n",
    "                list1[k]=right_half[j]\n",
    "                j+=1\n",
    "            k+=1\n",
    "        \n",
    "        while i<len(left_half):\n",
    "            list1[k]=left_half[i]\n",
    "            i+=1\n",
    "            k+=1\n",
    "        while j<len(right_half):\n",
    "            list1[k]=right_half[j]\n",
    "            j+=1\n",
    "            k+=1 \n",
    "\n",
    "#operations\n",
    "list1=[]\n",
    "while True:\n",
    "    a=int(input(\" Enter Element in list/ do you want to quit press(0) \"))\n",
    "    if a==0:\n",
    "       break\n",
    "    list1.append(a) \n",
    "print(\"Merge Sort\")     \n",
    "print(f\"list entered by user is:{list1}\")\n",
    "merge_sort(list1)\n",
    "print(\"Merge sort:\",list1)\n",
    "        "
   ]
  },
  {
   "cell_type": "code",
   "execution_count": 3,
   "metadata": {},
   "outputs": [
    {
     "name": "stdout",
     "output_type": "stream",
     "text": [
      "Factorial of 5 is 120\n"
     ]
    }
   ],
   "source": [
    "#fact recursion\n",
    "def factorial(n):\n",
    "    if n==0:\n",
    "        return 1\n",
    "    else:\n",
    "        return n * factorial(n-1)\n",
    "\n",
    "num=int(input(\"Enter a number to find factorial\"))\n",
    "print(f\"Factorial of {num} is {factorial(num)}\")             "
   ]
  },
  {
   "cell_type": "code",
   "execution_count": 11,
   "metadata": {},
   "outputs": [
    {
     "name": "stdout",
     "output_type": "stream",
     "text": [
      "Fibonacci of first 8 numbers is:\n",
      "0\n",
      "1\n",
      "1\n",
      "2\n",
      "3\n",
      "5\n",
      "8\n",
      "13\n"
     ]
    }
   ],
   "source": [
    "#fib recursion\n",
    "def fibonacii(n):\n",
    "    if n==0 or n==1:\n",
    "        return n\n",
    "    else:\n",
    "        return (fibonacii(n-1)+fibonacii(n-2))\n",
    "\n",
    "\n",
    "num=int(input(\"Enter the number of iteration for fibonacci\"))\n",
    "print(f\"Fibonacci of first {num} numbers is:\")\n",
    "for i in range(num):\n",
    "    print(fibonacii(i))              "
   ]
  }
 ],
 "metadata": {
  "interpreter": {
   "hash": "43a265a97f9b8d1a70f2d84af00138063afd550e5c782f36aaeba0f16d129512"
  },
  "kernelspec": {
   "display_name": "Python 3.10.0 64-bit",
   "language": "python",
   "name": "python3"
  },
  "language_info": {
   "codemirror_mode": {
    "name": "ipython",
    "version": 3
   },
   "file_extension": ".py",
   "mimetype": "text/x-python",
   "name": "python",
   "nbconvert_exporter": "python",
   "pygments_lexer": "ipython3",
   "version": "3.10.0"
  },
  "orig_nbformat": 4
 },
 "nbformat": 4,
 "nbformat_minor": 2
}
